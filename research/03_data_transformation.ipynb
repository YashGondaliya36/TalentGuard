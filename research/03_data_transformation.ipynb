{
 "cells": [
  {
   "cell_type": "code",
   "execution_count": 1,
   "metadata": {},
   "outputs": [],
   "source": [
    "import os"
   ]
  },
  {
   "cell_type": "code",
   "execution_count": 2,
   "metadata": {},
   "outputs": [
    {
     "data": {
      "text/plain": [
       "'e:\\\\Data_Science_Project\\\\TalentGuard\\\\research'"
      ]
     },
     "execution_count": 2,
     "metadata": {},
     "output_type": "execute_result"
    }
   ],
   "source": [
    "%pwd"
   ]
  },
  {
   "cell_type": "code",
   "execution_count": 3,
   "metadata": {},
   "outputs": [],
   "source": [
    "os.chdir(\"../\")"
   ]
  },
  {
   "cell_type": "code",
   "execution_count": 4,
   "metadata": {},
   "outputs": [
    {
     "data": {
      "text/plain": [
       "'e:\\\\Data_Science_Project\\\\TalentGuard'"
      ]
     },
     "execution_count": 4,
     "metadata": {},
     "output_type": "execute_result"
    }
   ],
   "source": [
    "%pwd"
   ]
  },
  {
   "cell_type": "code",
   "execution_count": 5,
   "metadata": {},
   "outputs": [],
   "source": [
    "from dataclasses import dataclass\n",
    "from pathlib import Path\n",
    "\n",
    "\n",
    "@dataclass(frozen=True)\n",
    "class DataTransformationConfig:\n",
    "    root_dir: Path\n",
    "    data_path: Path"
   ]
  },
  {
   "cell_type": "code",
   "execution_count": 6,
   "metadata": {},
   "outputs": [],
   "source": [
    "from TalentGuard.constants import *\n",
    "from TalentGuard.utils.common import read_yaml, create_directories"
   ]
  },
  {
   "cell_type": "code",
   "execution_count": 7,
   "metadata": {},
   "outputs": [],
   "source": [
    "class ConfigurationManager:\n",
    "    def __init__(\n",
    "        self,\n",
    "        config_filepath = CONFIG_FILE_PATH,\n",
    "        params_filepath = PARAMS_FILE_PATH,\n",
    "        schema_filepath = SCHEMA_FILE_PATH):\n",
    "\n",
    "        self.config = read_yaml(config_filepath)\n",
    "        self.params = read_yaml(params_filepath)\n",
    "        self.schema = read_yaml(schema_filepath)\n",
    "\n",
    "        create_directories([self.config.artifacts_root])\n",
    "\n",
    "\n",
    "    \n",
    "    def get_data_transformation_config(self) -> DataTransformationConfig:\n",
    "        config = self.config.data_transformation\n",
    "\n",
    "        create_directories([config.root_dir])\n",
    "\n",
    "        data_transformation_config = DataTransformationConfig(\n",
    "            root_dir=config.root_dir,\n",
    "            data_path=config.data_path,\n",
    "        )\n",
    "\n",
    "        return data_transformation_config"
   ]
  },
  {
   "cell_type": "code",
   "execution_count": 8,
   "metadata": {},
   "outputs": [],
   "source": [
    "import os\n",
    "from TalentGuard import logger\n",
    "from sklearn.model_selection import train_test_split\n",
    "import pandas as pd"
   ]
  },
  {
   "cell_type": "code",
   "execution_count": 20,
   "metadata": {},
   "outputs": [],
   "source": [
    "import os\n",
    "from TalentGuard import logger\n",
    "from sklearn.model_selection import train_test_split\n",
    "import pandas as pd\n",
    "from TalentGuard.config.configuration import DataTransformationConfig\n",
    "from sklearn.preprocessing import LabelEncoder      \n",
    "\n",
    "\n",
    "\n",
    "class DataTransformation:\n",
    "    def __init__(self, config: DataTransformationConfig):\n",
    "        self.config = config\n",
    "\n",
    "    def encode_data(self,data):\n",
    "        \"\"\"Encode the categorical columns in the DataFrame.\"\"\"\n",
    "\n",
    "        label_encoder = LabelEncoder()\n",
    "        data['salary'] = label_encoder.fit_transform(data['salary'])\n",
    "        data['Department'] = label_encoder.fit_transform(data['Department'])\n",
    "\n",
    "        # Save the encoded DataFrame as a .pkl file in the artifacts folder\n",
    "        encoded_data_path = os.path.join(self.config.root_dir, 'encoded_data.pkl')\n",
    "        data.to_pickle(encoded_data_path)\n",
    "\n",
    "        logger.info(f\"Encoded data saved to {encoded_data_path}\")\n",
    "        return data\n",
    "\n",
    "    def train_test_spliting(self):\n",
    "        # Load the data\n",
    "        data = pd.read_csv(self.config.data_path)\n",
    "\n",
    "        # Encode the data\n",
    "        data = self.encode_data(data)\n",
    "\n",
    "        # Split the data into training and test sets. (0.75, 0.25) split.\n",
    "        train, test = train_test_split(data)\n",
    "\n",
    "        # Save the train and test sets as CSV files\n",
    "        train.to_csv(os.path.join(self.config.root_dir, \"train.csv\"), index=False)\n",
    "        test.to_csv(os.path.join(self.config.root_dir, \"test.csv\"), index=False)\n",
    "\n",
    "        logger.info(\"Split data into training and test sets\")\n",
    "        logger.info(f\"Train shape: {train.shape}\")\n",
    "        logger.info(f\"Test shape: {test.shape}\")\n",
    "\n",
    "        print(f\"Train shape: {train.shape}\")\n",
    "        print(f\"Test shape: {test.shape}\")"
   ]
  },
  {
   "cell_type": "code",
   "execution_count": 21,
   "metadata": {},
   "outputs": [
    {
     "name": "stdout",
     "output_type": "stream",
     "text": [
      "[2025-01-10 23:46:28,090: INFO: common: yaml file: config\\config.yaml loaded successfully]\n",
      "[2025-01-10 23:46:28,095: INFO: common: yaml file: params.yaml loaded successfully]\n",
      "[2025-01-10 23:46:28,101: INFO: common: yaml file: schema.yaml loaded successfully]\n",
      "[2025-01-10 23:46:28,105: INFO: common: created directory at: artifacts]\n",
      "[2025-01-10 23:46:28,107: INFO: common: created directory at: artifacts/data_transformation]\n",
      "[2025-01-10 23:46:28,160: INFO: 2486909310: Encoded data saved to artifacts/data_transformation\\encoded_data.pkl]\n",
      "[2025-01-10 23:46:28,310: INFO: 2486909310: Split data into training and test sets]\n",
      "[2025-01-10 23:46:28,314: INFO: 2486909310: Train shape: (11249, 10)]\n",
      "[2025-01-10 23:46:28,315: INFO: 2486909310: Test shape: (3750, 10)]\n",
      "Train shape: (11249, 10)\n",
      "Test shape: (3750, 10)\n"
     ]
    }
   ],
   "source": [
    "try:\n",
    "    config = ConfigurationManager()\n",
    "    data_transformation_config = config.get_data_transformation_config()\n",
    "    data_transformation = DataTransformation(config=data_transformation_config)\n",
    "    data_transformation.train_test_spliting()\n",
    "except Exception as e:\n",
    "    raise e"
   ]
  },
  {
   "cell_type": "code",
   "execution_count": null,
   "metadata": {},
   "outputs": [],
   "source": []
  }
 ],
 "metadata": {
  "kernelspec": {
   "display_name": "mlproj",
   "language": "python",
   "name": "python3"
  },
  "language_info": {
   "codemirror_mode": {
    "name": "ipython",
    "version": 3
   },
   "file_extension": ".py",
   "mimetype": "text/x-python",
   "name": "python",
   "nbconvert_exporter": "python",
   "pygments_lexer": "ipython3",
   "version": "3.11.4"
  },
  "orig_nbformat": 4
 },
 "nbformat": 4,
 "nbformat_minor": 2
}
